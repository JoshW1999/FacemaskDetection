{
 "cells": [
  {
   "cell_type": "code",
   "execution_count": null,
   "metadata": {},
   "outputs": [],
   "source": [
    "import numpy as np \n",
    "import matplotlib.pyplot as plt\n",
    "import tensorflow.keras.layers as layers\n",
    "import tensorflow.keras.models as models\n",
    "import tensorflow as tf\n",
    "import os"
   ]
  },
  {
   "cell_type": "code",
   "execution_count": null,
   "metadata": {},
   "outputs": [],
   "source": [
    "batch_size = 40\n",
    "img_height = 200 \n",
    "img_width = 200 "
   ]
  },
  {
   "cell_type": "code",
   "execution_count": null,
   "metadata": {},
   "outputs": [],
   "source": [
    "training = tf.keras.preprocessing.image_dataset_from_directory(\n",
    "    'data',\n",
    "    validation_split = 0.2,\n",
    "    subset = \"training\",\n",
    "    seed=42, \n",
    "    image_size = (img_height, img_width),\n",
    "    batch_size = batch_size\n",
    ")"
   ]
  },
  {
   "cell_type": "code",
   "execution_count": null,
   "metadata": {},
   "outputs": [],
   "source": [
    "testing = tf.keras.preprocessing.image_dataset_from_directory(\n",
    "    'data',\n",
    "    validation_split = 0.2,\n",
    "    subset = \"validation\",\n",
    "    seed=42, \n",
    "    image_size = (img_height, img_width),\n",
    "    batch_size = batch_size\n",
    ")"
   ]
  },
  {
   "cell_type": "code",
   "execution_count": null,
   "metadata": {},
   "outputs": [],
   "source": [
    "classes = training.class_names\n",
    "classes"
   ]
  },
  {
   "cell_type": "code",
   "execution_count": null,
   "metadata": {},
   "outputs": [],
   "source": [
    "# Performance Enhancement\n",
    "AUTOTUNE = tf.data.experimental.AUTOTUNE\n",
    "training = training.cache().prefetch(buffer_size=AUTOTUNE)\n",
    "testing = testing.cache().prefetch(buffer_size=AUTOTUNE)"
   ]
  },
  {
   "cell_type": "code",
   "execution_count": null,
   "metadata": {},
   "outputs": [],
   "source": [
    "# Model 1 \n",
    "# Uses MaxPooling layers interwoven between Convolutional Layers.\n",
    "# Global Average Pooling layer present for dimensionality reduction\n",
    "# required for Dense Layers."
   ]
  },
  {
   "cell_type": "code",
   "execution_count": null,
   "metadata": {},
   "outputs": [],
   "source": [
    "model = models.Sequential([\n",
    "  layers.experimental.preprocessing.Rescaling(1./255), # Need to rescale RGB values\n",
    "  layers.Conv2D(32, 3, activation='relu'), # ReLU Activation Function for best computational performance\n",
    "  layers.MaxPooling2D(),\n",
    "  layers.Conv2D(64, 3, activation='relu'),\n",
    "  layers.MaxPooling2D(),\n",
    "  layers.Conv2D(128, 3, activation='relu'),\n",
    "  layers.MaxPooling2D(),\n",
    "  layers.GlobalAveragePooling2D(),\n",
    "  layers.Dense(256, activation='relu'),\n",
    "  layers.Dense(2, activation='softmax') # Probability Vector: [p('with_mask'), p('without_mask')]                         \n",
    "])"
   ]
  },
  {
   "cell_type": "code",
   "execution_count": null,
   "metadata": {},
   "outputs": [],
   "source": [
    "model.compile(optimizer='adam', loss='sparse_categorical_crossentropy', metrics=['acc'])"
   ]
  },
  {
   "cell_type": "code",
   "execution_count": null,
   "metadata": {},
   "outputs": [],
   "source": [
    "fitting = model.fit(training, validation_data=testing, epochs = 20)"
   ]
  },
  {
   "cell_type": "code",
   "execution_count": null,
   "metadata": {},
   "outputs": [],
   "source": [
    "model.summary()"
   ]
  },
  {
   "cell_type": "code",
   "execution_count": null,
   "metadata": {},
   "outputs": [],
   "source": [
    "# Plotting Loss vs. Accuracy\n",
    "\n",
    "plt.plot(fitting.history['loss'], label = 'Loss (Training)')\n",
    "plt.plot(fitting.history['acc'], label = 'Accuracy (Training)')\n",
    "plt.legend()"
   ]
  },
  {
   "cell_type": "code",
   "execution_count": null,
   "metadata": {},
   "outputs": [],
   "source": [
    "# Display images with predicted labels\n",
    "\n",
    "plt.figure(figsize=(20,20))\n",
    "\n",
    "for imgs, lbls in testing.take(1):\n",
    "  predictions = model.predict(imgs)\n",
    "  predicted_label = []\n",
    "\n",
    "  for p in predictions:\n",
    "    predicted_label.append(classes[np.argmax(p)])\n",
    "\n",
    "  for i in range(40):\n",
    "    ax = plt.subplot(10, 4, i+1)\n",
    "    plt.imshow(imgs[i].numpy().astype('uint8'))\n",
    "    plt.title('Predicted Class: ' + predicted_label[i])\n",
    "    plt.axis('off')\n",
    "    plt.grid(True)"
   ]
  },
  {
   "cell_type": "code",
   "execution_count": null,
   "metadata": {},
   "outputs": [],
   "source": [
    "# Model 2\n",
    "# Average Pooling Layers interwoven between Convolutional Layers.\n",
    "# Global Max Pooling layer to reduce dimensionality."
   ]
  },
  {
   "cell_type": "code",
   "execution_count": null,
   "metadata": {},
   "outputs": [],
   "source": [
    "model_2 = models.Sequential([\n",
    "  layers.experimental.preprocessing.Rescaling(1./255), # Need to rescale RGB values\n",
    "  layers.Conv2D(32, 3, input_shape=(200, 200, 3), activation='relu'),\n",
    "  layers.AveragePooling2D(),\n",
    "  layers.Conv2D(64, 3, activation='relu'),\n",
    "  layers.AveragePooling2D(),\n",
    "  layers.Conv2D(128, 3, activation='relu'),\n",
    "  layers.AveragePooling2D(),\n",
    "  layers.GlobalMaxPooling2D(),\n",
    "  layers.Dense(256, activation='sigmoid'), # \n",
    "  layers.Dense(2, activation='softmax') # Probability Vector: [p('with_mask'), p('without_mask')]                         \n",
    "])"
   ]
  },
  {
   "cell_type": "code",
   "execution_count": null,
   "metadata": {},
   "outputs": [],
   "source": [
    "model_2.compile(optimizer='adam', loss='sparse_categorical_crossentropy', metrics=['acc'])"
   ]
  },
  {
   "cell_type": "code",
   "execution_count": null,
   "metadata": {},
   "outputs": [],
   "source": [
    "fitting = model_2.fit(training, validation_data=testing, epochs = 20)"
   ]
  },
  {
   "cell_type": "code",
   "execution_count": null,
   "metadata": {},
   "outputs": [],
   "source": [
    "model_2.summary()"
   ]
  },
  {
   "cell_type": "code",
   "execution_count": null,
   "metadata": {},
   "outputs": [],
   "source": [
    "# Plotting Loss vs. Accuracy\n",
    "\n",
    "plt.plot(fitting.history['loss'], label = 'Loss (Training)')\n",
    "plt.plot(fitting.history['acc'], label = 'Accuracy (Training)')\n",
    "plt.legend()"
   ]
  },
  {
   "cell_type": "code",
   "execution_count": null,
   "metadata": {},
   "outputs": [],
   "source": [
    "# Display images with predicted labels\n",
    "\n",
    "plt.figure(figsize=(20,20))\n",
    "\n",
    "for imgs, lbls in testing.take(1):\n",
    "  predictions = model.predict(imgs)\n",
    "  predicted_label = []\n",
    "\n",
    "  for p in predictions:\n",
    "    predicted_label.append(classes[np.argmax(p)])\n",
    "\n",
    "  for i in range(40):\n",
    "    ax = plt.subplot(10, 4, i+1)\n",
    "    plt.imshow(imgs[i].numpy().astype('uint8'))\n",
    "    plt.title('Predicted Class: ' + predicted_label[i])\n",
    "    plt.axis('off')\n",
    "    plt.grid(True)"
   ]
  },
  {
   "cell_type": "code",
   "execution_count": null,
   "metadata": {},
   "outputs": [],
   "source": [
    "# Model 3\n",
    "# Uses Parametric ReLU (PReLU) Activation Function.\n",
    "# PReLU extends typical ReLU function by providing slope for negative \n",
    "# values as opposed to defaulting them to 0. \n",
    "# This negative slope is adaptively learned; ideally speeds up training."
   ]
  },
  {
   "cell_type": "code",
   "execution_count": null,
   "metadata": {},
   "outputs": [],
   "source": [
    "model_3 = models.Sequential([\n",
    "  layers.experimental.preprocessing.Rescaling(1./255), # Need to rescale RGB values\n",
    "  layers.Conv2D(32, 3, input_shape=(200, 200, 3), activation=layers.PReLU()),\n",
    "  layers.AveragePooling2D(),\n",
    "  layers.Conv2D(64, 3, activation=layers.PReLU()),\n",
    "  layers.AveragePooling2D(),\n",
    "  layers.Conv2D(128, 3, activation=layers.PReLU()),\n",
    "  layers.AveragePooling2D(),\n",
    "  layers.GlobalMaxPooling2D(),\n",
    "  layers.Dense(256, activation='sigmoid'),\n",
    "  layers.Dense(2, activation='softmax') # Probability Vector: [p('with_mask'), p('without_mask')]                          \n",
    "])"
   ]
  },
  {
   "cell_type": "code",
   "execution_count": null,
   "metadata": {},
   "outputs": [],
   "source": [
    "model_3.compile(optimizer='adam', loss='sparse_categorical_crossentropy', metrics=['acc'])"
   ]
  },
  {
   "cell_type": "code",
   "execution_count": null,
   "metadata": {},
   "outputs": [],
   "source": [
    "fitting = model_3.fit(training, validation_data=testing, epochs = 20)"
   ]
  },
  {
   "cell_type": "code",
   "execution_count": null,
   "metadata": {},
   "outputs": [],
   "source": [
    "# Plotting Loss vs. Accuracy\n",
    "plt.plot(fitting.history['loss'], label = 'Loss (Training)')\n",
    "plt.plot(fitting.history['acc'], label = 'Accuracy (Training)')\n",
    "plt.legend()"
   ]
  },
  {
   "cell_type": "code",
   "execution_count": null,
   "metadata": {},
   "outputs": [],
   "source": [
    "# Display images with predicted labels\n",
    "\n",
    "plt.figure(figsize=(20,20))\n",
    "\n",
    "for imgs, lbls in testing.take(1):\n",
    "  predictions = model_3.predict(imgs)\n",
    "  predicted_label = []\n",
    "\n",
    "  for p in predictions:\n",
    "    predicted_label.append(classes[np.argmax(p)])\n",
    "\n",
    "  for i in range(40):\n",
    "    ax = plt.subplot(10, 4, i+1)\n",
    "    plt.imshow(imgs[i].numpy().astype('uint8'))\n",
    "    plt.title('Predicted Class: ' + predicted_label[i])\n",
    "    plt.axis('off')\n",
    "    plt.grid(True)"
   ]
  },
  {
   "cell_type": "code",
   "execution_count": null,
   "metadata": {},
   "outputs": [],
   "source": [
    "model_3.summary()"
   ]
  },
  {
   "cell_type": "code",
   "execution_count": null,
   "metadata": {},
   "outputs": [],
   "source": []
  }
 ],
 "metadata": {
  "kernelspec": {
   "display_name": "Python 3",
   "language": "python",
   "name": "python3"
  },
  "language_info": {
   "codemirror_mode": {
    "name": "ipython",
    "version": 3
   },
   "file_extension": ".py",
   "mimetype": "text/x-python",
   "name": "python",
   "nbconvert_exporter": "python",
   "pygments_lexer": "ipython3",
   "version": "3.8.3"
  }
 },
 "nbformat": 4,
 "nbformat_minor": 4
}
